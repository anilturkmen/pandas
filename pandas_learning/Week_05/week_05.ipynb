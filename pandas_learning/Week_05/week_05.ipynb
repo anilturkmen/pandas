{
 "cells": [
  {
   "cell_type": "code",
   "execution_count": 1,
   "id": "e43317e5-67e3-4704-b3ce-7296706e9095",
   "metadata": {},
   "outputs": [],
   "source": [
    "import numpy as np"
   ]
  },
  {
   "cell_type": "code",
   "execution_count": 2,
   "id": "a3c20dfe-1b86-40c7-825d-59f26f2f5048",
   "metadata": {},
   "outputs": [],
   "source": [
    "# 1, 2 ve 3 boyutlu diziler oluşturma\n",
    "\n",
    "array_1d = np.array([1, 2, 3])\n",
    "array_2d = np.array([[1, 2], [3, 4]])\n",
    "array_3d = np.array([[[1, 2], [3, 4]], [[5, 6], [7, 8]]])"
   ]
  },
  {
   "cell_type": "code",
   "execution_count": 3,
   "id": "d93374f9-6121-40eb-b637-0b2f1e2ce8d8",
   "metadata": {},
   "outputs": [
    {
     "data": {
      "text/plain": [
       "1"
      ]
     },
     "execution_count": 3,
     "metadata": {},
     "output_type": "execute_result"
    }
   ],
   "source": [
    "# Dizilerin boyutlarını öğrenme\n",
    "\n",
    "array_1d.ndim"
   ]
  },
  {
   "cell_type": "code",
   "execution_count": 4,
   "id": "df0e906c-056c-4451-be1b-616febfd5b64",
   "metadata": {},
   "outputs": [
    {
     "data": {
      "text/plain": [
       "3"
      ]
     },
     "execution_count": 4,
     "metadata": {},
     "output_type": "execute_result"
    }
   ],
   "source": [
    "array_3d.ndim"
   ]
  },
  {
   "cell_type": "code",
   "execution_count": 5,
   "id": "9d108e02-2869-4224-a141-64de8d8bad6c",
   "metadata": {},
   "outputs": [
    {
     "data": {
      "text/plain": [
       "(2, 2, 2)"
      ]
     },
     "execution_count": 5,
     "metadata": {},
     "output_type": "execute_result"
    }
   ],
   "source": [
    "# Dizilerin şekillerini öğrenme\n",
    "\n",
    "array_3d.shape"
   ]
  },
  {
   "cell_type": "code",
   "execution_count": 6,
   "id": "6f857780-0730-47d0-8f93-3f07da0db260",
   "metadata": {},
   "outputs": [
    {
     "data": {
      "text/plain": [
       "(2, 2)"
      ]
     },
     "execution_count": 6,
     "metadata": {},
     "output_type": "execute_result"
    }
   ],
   "source": [
    "array_2d.shape"
   ]
  },
  {
   "cell_type": "code",
   "execution_count": 43,
   "id": "035e85e1-a931-461a-8a29-0742d747e1ac",
   "metadata": {},
   "outputs": [
    {
     "data": {
      "text/plain": [
       "2"
      ]
     },
     "execution_count": 43,
     "metadata": {},
     "output_type": "execute_result"
    }
   ],
   "source": [
    "# Dizilerin eleman sayısını öğrenme (len fonksiyonu ile farkını vurgulayarak)\n",
    "\n",
    "len(array_2d)"
   ]
  },
  {
   "cell_type": "code",
   "execution_count": 8,
   "id": "bd2f5ed5-74de-4eec-98e0-4b892182a64e",
   "metadata": {},
   "outputs": [
    {
     "data": {
      "text/plain": [
       "4"
      ]
     },
     "execution_count": 8,
     "metadata": {},
     "output_type": "execute_result"
    }
   ],
   "source": [
    "array_2d.size"
   ]
  },
  {
   "cell_type": "code",
   "execution_count": 9,
   "id": "9df94c7b-a29f-4f1b-811e-d848fe47e4e0",
   "metadata": {},
   "outputs": [
    {
     "data": {
      "text/plain": [
       "2"
      ]
     },
     "execution_count": 9,
     "metadata": {},
     "output_type": "execute_result"
    }
   ],
   "source": [
    "len(array_3d)"
   ]
  },
  {
   "cell_type": "code",
   "execution_count": 10,
   "id": "6da1f0d5-70d0-4b31-b4d0-665e17f57027",
   "metadata": {},
   "outputs": [
    {
     "data": {
      "text/plain": [
       "8"
      ]
     },
     "execution_count": 10,
     "metadata": {},
     "output_type": "execute_result"
    }
   ],
   "source": [
    "array_3d.size"
   ]
  },
  {
   "cell_type": "code",
   "execution_count": 11,
   "id": "083a728b-fe3c-4e82-84dd-85ebe5507856",
   "metadata": {},
   "outputs": [
    {
     "data": {
      "text/plain": [
       "array([[0., 0., 0.],\n",
       "       [0., 0., 0.]])"
      ]
     },
     "execution_count": 11,
     "metadata": {},
     "output_type": "execute_result"
    }
   ],
   "source": [
    "# 0 (sıfır) ve 1'lerden oluşan çok boyutlu dizi oluşturma\n",
    "\n",
    "np.zeros((2,3))"
   ]
  },
  {
   "cell_type": "code",
   "execution_count": 13,
   "id": "b017b409-f549-4aa2-976b-159b77a38dd0",
   "metadata": {},
   "outputs": [
    {
     "data": {
      "text/plain": [
       "array([[[1., 1.],\n",
       "        [1., 1.]],\n",
       "\n",
       "       [[1., 1.],\n",
       "        [1., 1.]],\n",
       "\n",
       "       [[1., 1.],\n",
       "        [1., 1.]]])"
      ]
     },
     "execution_count": 13,
     "metadata": {},
     "output_type": "execute_result"
    }
   ],
   "source": [
    "np.ones((3,2,2))"
   ]
  },
  {
   "cell_type": "code",
   "execution_count": 16,
   "id": "da1ede39-dc9c-4cc0-981a-746b487e15c9",
   "metadata": {},
   "outputs": [
    {
     "data": {
      "text/plain": [
       "array([10, 15, 20, 25, 30, 35, 40, 45, 50])"
      ]
     },
     "execution_count": 16,
     "metadata": {},
     "output_type": "execute_result"
    }
   ],
   "source": [
    "# Belirli aralıkta ve adımda dizi oluşturma\n",
    "\n",
    "np.arange(10, 51, 5)"
   ]
  },
  {
   "cell_type": "code",
   "execution_count": 17,
   "id": "3d4e23fe-fb6b-4e38-9159-67865a827012",
   "metadata": {},
   "outputs": [
    {
     "data": {
      "text/plain": [
       "array([[0., 0., 0.],\n",
       "       [0., 0., 0.]])"
      ]
     },
     "execution_count": 17,
     "metadata": {},
     "output_type": "execute_result"
    }
   ],
   "source": [
    "# Boş (empty) dizi oluşturma\n",
    "\n",
    "np.empty((2,3))"
   ]
  },
  {
   "cell_type": "code",
   "execution_count": 18,
   "id": "6af6070e-d210-4c3d-a08c-2adf05fae51f",
   "metadata": {},
   "outputs": [],
   "source": [
    "# Dizi elemanlarının işlemleri\n",
    "\n",
    "array= np.array([1, 2, 3, 4 ,5])"
   ]
  },
  {
   "cell_type": "code",
   "execution_count": 19,
   "id": "8827a21e-8cf5-4bb2-a568-8e730d659a7a",
   "metadata": {},
   "outputs": [
    {
     "data": {
      "text/plain": [
       "15"
      ]
     },
     "execution_count": 19,
     "metadata": {},
     "output_type": "execute_result"
    }
   ],
   "source": [
    "np.sum(array)"
   ]
  },
  {
   "cell_type": "code",
   "execution_count": 20,
   "id": "220e3bcb-6332-4493-b3f1-9daef4bcdeed",
   "metadata": {},
   "outputs": [
    {
     "data": {
      "text/plain": [
       "1"
      ]
     },
     "execution_count": 20,
     "metadata": {},
     "output_type": "execute_result"
    }
   ],
   "source": [
    "np.min(array)"
   ]
  },
  {
   "cell_type": "code",
   "execution_count": 21,
   "id": "8b370422-0142-4a7c-9282-71501cee828d",
   "metadata": {},
   "outputs": [
    {
     "data": {
      "text/plain": [
       "5"
      ]
     },
     "execution_count": 21,
     "metadata": {},
     "output_type": "execute_result"
    }
   ],
   "source": [
    "np.max(array)"
   ]
  },
  {
   "cell_type": "code",
   "execution_count": 22,
   "id": "6db180cb-2930-4d48-838b-176f014a2a69",
   "metadata": {},
   "outputs": [
    {
     "data": {
      "text/plain": [
       "3.0"
      ]
     },
     "execution_count": 22,
     "metadata": {},
     "output_type": "execute_result"
    }
   ],
   "source": [
    "np.mean(array)"
   ]
  },
  {
   "cell_type": "code",
   "execution_count": 23,
   "id": "21abaab5-13d7-49c3-ac02-dd0dbf491efc",
   "metadata": {},
   "outputs": [
    {
     "data": {
      "text/plain": [
       "2.0"
      ]
     },
     "execution_count": 23,
     "metadata": {},
     "output_type": "execute_result"
    }
   ],
   "source": [
    "np.var(array)"
   ]
  },
  {
   "cell_type": "code",
   "execution_count": 24,
   "id": "32b16e10-983f-43ad-b520-8977f4dec759",
   "metadata": {},
   "outputs": [
    {
     "data": {
      "text/plain": [
       "array([ 0.84147098,  0.90929743,  0.14112001, -0.7568025 , -0.95892427])"
      ]
     },
     "execution_count": 24,
     "metadata": {},
     "output_type": "execute_result"
    }
   ],
   "source": [
    "np.sin(array)"
   ]
  },
  {
   "cell_type": "code",
   "execution_count": 25,
   "id": "5fbd6d0c-e337-42c7-bb33-d095b9a30ca4",
   "metadata": {},
   "outputs": [
    {
     "data": {
      "text/plain": [
       "array([ 0.54030231, -0.41614684, -0.9899925 , -0.65364362,  0.28366219])"
      ]
     },
     "execution_count": 25,
     "metadata": {},
     "output_type": "execute_result"
    }
   ],
   "source": [
    "np.cos(array)"
   ]
  },
  {
   "cell_type": "code",
   "execution_count": 26,
   "id": "1268153d-35f5-41cb-970f-1bb11e17b01a",
   "metadata": {},
   "outputs": [
    {
     "data": {
      "text/plain": [
       "array([ 1,  4,  9, 16, 25])"
      ]
     },
     "execution_count": 26,
     "metadata": {},
     "output_type": "execute_result"
    }
   ],
   "source": [
    "np.square(array)"
   ]
  },
  {
   "cell_type": "code",
   "execution_count": 27,
   "id": "4be8cfdd-da0b-4f3b-9342-84bacafa80e3",
   "metadata": {},
   "outputs": [
    {
     "data": {
      "text/plain": [
       "array([1.        , 1.41421356, 1.73205081, 2.        , 2.23606798])"
      ]
     },
     "execution_count": 27,
     "metadata": {},
     "output_type": "execute_result"
    }
   ],
   "source": [
    "np.sqrt(array)"
   ]
  },
  {
   "cell_type": "code",
   "execution_count": 28,
   "id": "3bf2bf09-4ad2-414c-a8a1-d2bbe492c7c8",
   "metadata": {},
   "outputs": [
    {
     "data": {
      "text/plain": [
       "array([ 0. ,  2.5,  5. ,  7.5, 10. ])"
      ]
     },
     "execution_count": 28,
     "metadata": {},
     "output_type": "execute_result"
    }
   ],
   "source": [
    "# Belirli bir aralıkta eşit olarak dağılmış sayılardan oluşan bir dizi oluşturma\n",
    "\n",
    "np.linspace(0,10, 5)"
   ]
  },
  {
   "cell_type": "code",
   "execution_count": 29,
   "id": "6184c650-7dc1-4dd3-9bc4-5cf865edcf10",
   "metadata": {},
   "outputs": [
    {
     "data": {
      "text/plain": [
       "array([[0.84176061, 0.9730388 , 0.04578969],\n",
       "       [0.61088112, 0.74819351, 0.95314804]])"
      ]
     },
     "execution_count": 29,
     "metadata": {},
     "output_type": "execute_result"
    }
   ],
   "source": [
    "# Random dizi oluşturma\n",
    "\n",
    "np.random.rand(2,3)"
   ]
  },
  {
   "cell_type": "code",
   "execution_count": 31,
   "id": "c2483a7b-eac5-44f5-bf29-56f63ad22365",
   "metadata": {},
   "outputs": [
    {
     "data": {
      "text/plain": [
       "array([[12,  6, 19],\n",
       "       [17,  6, 16]])"
      ]
     },
     "execution_count": 31,
     "metadata": {},
     "output_type": "execute_result"
    }
   ],
   "source": [
    "# Random int tipinde değerleri olan dizi oluşturma\n",
    "\n",
    "np.random.randint(1,20, size=(2,3))"
   ]
  },
  {
   "cell_type": "code",
   "execution_count": 32,
   "id": "2399fb66-3eaf-483c-bed4-c7ae7e3616c1",
   "metadata": {},
   "outputs": [],
   "source": [
    "# İki dizinin toplamı, farkı, çarpımı ve bölümünü hesaplama\n",
    "\n",
    "array1= np.array([[1,2], [3,4]])\n",
    "array2= np.array([[5,6], [7,8]])"
   ]
  },
  {
   "cell_type": "code",
   "execution_count": 33,
   "id": "bc1ea8ce-272a-4a34-945f-ec523cc5e877",
   "metadata": {},
   "outputs": [
    {
     "data": {
      "text/plain": [
       "array([[ 6,  8],\n",
       "       [10, 12]])"
      ]
     },
     "execution_count": 33,
     "metadata": {},
     "output_type": "execute_result"
    }
   ],
   "source": [
    "np.add(array1, array2)"
   ]
  },
  {
   "cell_type": "code",
   "execution_count": 34,
   "id": "e85ea101-88fb-484a-bfe6-c3ecfdf38311",
   "metadata": {},
   "outputs": [
    {
     "data": {
      "text/plain": [
       "array([[-4, -4],\n",
       "       [-4, -4]])"
      ]
     },
     "execution_count": 34,
     "metadata": {},
     "output_type": "execute_result"
    }
   ],
   "source": [
    "np.subtract(array1, array2)"
   ]
  },
  {
   "cell_type": "code",
   "execution_count": 35,
   "id": "122b20b6-da13-456a-8397-9545001c31e9",
   "metadata": {},
   "outputs": [
    {
     "data": {
      "text/plain": [
       "array([[ 5, 12],\n",
       "       [21, 32]])"
      ]
     },
     "execution_count": 35,
     "metadata": {},
     "output_type": "execute_result"
    }
   ],
   "source": [
    "np.multiply(array1, array2)"
   ]
  },
  {
   "cell_type": "code",
   "execution_count": 36,
   "id": "2486bb20-3e96-4b27-855e-e6e40b5fc535",
   "metadata": {},
   "outputs": [
    {
     "data": {
      "text/plain": [
       "array([[0.2       , 0.33333333],\n",
       "       [0.42857143, 0.5       ]])"
      ]
     },
     "execution_count": 36,
     "metadata": {},
     "output_type": "execute_result"
    }
   ],
   "source": [
    "np.divide(array1, array2)"
   ]
  },
  {
   "cell_type": "code",
   "execution_count": 37,
   "id": "416d182b-3f78-4ac6-a097-1a4793db177f",
   "metadata": {},
   "outputs": [
    {
     "data": {
      "text/plain": [
       "array([[False, False],\n",
       "       [False, False]])"
      ]
     },
     "execution_count": 37,
     "metadata": {},
     "output_type": "execute_result"
    }
   ],
   "source": [
    "# İki dizinin mantıksal operatörle ile karşılaştırılması\n",
    "\n",
    "np.greater(array1, array2) # Array1'deki elemanlar Array2'deki elemanlardan büyük mü?"
   ]
  },
  {
   "cell_type": "code",
   "execution_count": 38,
   "id": "32ed2cc6-80bd-402e-a2af-f8a0ea7e56d8",
   "metadata": {},
   "outputs": [
    {
     "data": {
      "text/plain": [
       "array([[False, False],\n",
       "       [False, False]])"
      ]
     },
     "execution_count": 38,
     "metadata": {},
     "output_type": "execute_result"
    }
   ],
   "source": [
    "np.equal(array1, array2) # Array1'deki elemanlar Array2'deki elemanlarla eşit mi?"
   ]
  },
  {
   "cell_type": "code",
   "execution_count": 39,
   "id": "a79729e2-6fb9-4af7-8944-56ede9aac4a5",
   "metadata": {},
   "outputs": [
    {
     "name": "stdout",
     "output_type": "stream",
     "text": [
      "Belirli Değere Erişme: 9\n"
     ]
    }
   ],
   "source": [
    "# Çok boyutlu bir dizinin belirli bir değerine erişme\n",
    "array3d = np.array([[[1, 2, 3], [4, 5, 6]], [[7, 8, 9], [10, 11, 12]]])\n",
    "print(\"Belirli Değere Erişme:\", array3d[1, 0, 2])  # 1. indeksli bloğun 0. satırı, 2. sütunu"
   ]
  },
  {
   "cell_type": "code",
   "execution_count": 40,
   "id": "3c11e447-9e7b-419a-aefe-9caf4fd63e96",
   "metadata": {},
   "outputs": [
    {
     "data": {
      "text/plain": [
       "array([[ 2,  5],\n",
       "       [ 8, 11]])"
      ]
     },
     "execution_count": 40,
     "metadata": {},
     "output_type": "execute_result"
    }
   ],
   "source": [
    " array3d[:, :, 1] # Tüm blokların tüm satırları, 1. sütun"
   ]
  },
  {
   "cell_type": "code",
   "execution_count": 42,
   "id": "f9ef621f-4186-42ba-8ed4-96019c68dd21",
   "metadata": {},
   "outputs": [
    {
     "name": "stdout",
     "output_type": "stream",
     "text": [
      "Koşulu Sağlayan Elemanlar: [[[ 1  2  3]\n",
      "  [ 4  5  6]]\n",
      "\n",
      " [[ 7  8  9]\n",
      "  [10 11 12]]]\n"
     ]
    }
   ],
   "source": [
    "condition = array3d > 5  # 5'ten büyük elemanlar için koşul\n",
    "print(\"Koşulu Sağlayan Elemanlar:\", array3d)"
   ]
  },
  {
   "cell_type": "code",
   "execution_count": null,
   "id": "b56ef44c-0cef-4697-a2ee-50d067237e7f",
   "metadata": {},
   "outputs": [],
   "source": []
  }
 ],
 "metadata": {
  "kernelspec": {
   "display_name": "Python 3 (ipykernel)",
   "language": "python",
   "name": "python3"
  },
  "language_info": {
   "codemirror_mode": {
    "name": "ipython",
    "version": 3
   },
   "file_extension": ".py",
   "mimetype": "text/x-python",
   "name": "python",
   "nbconvert_exporter": "python",
   "pygments_lexer": "ipython3",
   "version": "3.10.13"
  }
 },
 "nbformat": 4,
 "nbformat_minor": 5
}
